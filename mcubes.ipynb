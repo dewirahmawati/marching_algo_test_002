{
 "cells": [
  {
   "cell_type": "code",
   "execution_count": 11,
   "id": "1c1730b3",
   "metadata": {},
   "outputs": [],
   "source": [
    "import numpy as np"
   ]
  },
  {
   "cell_type": "code",
   "execution_count": 12,
   "id": "761f1d47",
   "metadata": {},
   "outputs": [],
   "source": [
    "import mcubes"
   ]
  },
  {
   "cell_type": "code",
   "execution_count": 13,
   "id": "9d179df6",
   "metadata": {},
   "outputs": [],
   "source": [
    "X, Y, Z = np.mgrid[0:30, 0:30, 0:30]"
   ]
  },
  {
   "cell_type": "code",
   "execution_count": 14,
   "id": "d39f94a0",
   "metadata": {},
   "outputs": [],
   "source": [
    "u = (X-15)**2 + (Y-15)**2 + (Z-15)**2 - 8**2"
   ]
  },
  {
   "cell_type": "code",
   "execution_count": 15,
   "id": "ad03d931",
   "metadata": {},
   "outputs": [],
   "source": [
    "vertices, triangles = mcubes.marching_cubes(u, 0)"
   ]
  },
  {
   "cell_type": "code",
   "execution_count": 16,
   "id": "c8dcf349",
   "metadata": {},
   "outputs": [],
   "source": [
    "mcubes.export_mesh(vertices, triangles, \"sphere.dae\", \"MySphere\")"
   ]
  },
  {
   "cell_type": "code",
   "execution_count": 19,
   "id": "cfa209d5",
   "metadata": {},
   "outputs": [
    {
     "name": "stdout",
     "output_type": "stream",
     "text": [
      "[[[611 582 555 ... 530 555 582]\n",
      "  [582 553 526 ... 501 526 553]\n",
      "  [555 526 499 ... 474 499 526]\n",
      "  ...\n",
      "  [530 501 474 ... 449 474 501]\n",
      "  [555 526 499 ... 474 499 526]\n",
      "  [582 553 526 ... 501 526 553]]\n",
      "\n",
      " [[582 553 526 ... 501 526 553]\n",
      "  [553 524 497 ... 472 497 524]\n",
      "  [526 497 470 ... 445 470 497]\n",
      "  ...\n",
      "  [501 472 445 ... 420 445 472]\n",
      "  [526 497 470 ... 445 470 497]\n",
      "  [553 524 497 ... 472 497 524]]\n",
      "\n",
      " [[555 526 499 ... 474 499 526]\n",
      "  [526 497 470 ... 445 470 497]\n",
      "  [499 470 443 ... 418 443 470]\n",
      "  ...\n",
      "  [474 445 418 ... 393 418 445]\n",
      "  [499 470 443 ... 418 443 470]\n",
      "  [526 497 470 ... 445 470 497]]\n",
      "\n",
      " ...\n",
      "\n",
      " [[530 501 474 ... 449 474 501]\n",
      "  [501 472 445 ... 420 445 472]\n",
      "  [474 445 418 ... 393 418 445]\n",
      "  ...\n",
      "  [449 420 393 ... 368 393 420]\n",
      "  [474 445 418 ... 393 418 445]\n",
      "  [501 472 445 ... 420 445 472]]\n",
      "\n",
      " [[555 526 499 ... 474 499 526]\n",
      "  [526 497 470 ... 445 470 497]\n",
      "  [499 470 443 ... 418 443 470]\n",
      "  ...\n",
      "  [474 445 418 ... 393 418 445]\n",
      "  [499 470 443 ... 418 443 470]\n",
      "  [526 497 470 ... 445 470 497]]\n",
      "\n",
      " [[582 553 526 ... 501 526 553]\n",
      "  [553 524 497 ... 472 497 524]\n",
      "  [526 497 470 ... 445 470 497]\n",
      "  ...\n",
      "  [501 472 445 ... 420 445 472]\n",
      "  [526 497 470 ... 445 470 497]\n",
      "  [553 524 497 ... 472 497 524]]]\n"
     ]
    }
   ],
   "source": [
    "print(u)"
   ]
  },
  {
   "cell_type": "code",
   "execution_count": null,
   "id": "e660c810",
   "metadata": {},
   "outputs": [],
   "source": [
    "import numpy as np"
   ]
  },
  {
   "cell_type": "code",
   "execution_count": 20,
   "id": "a2807116",
   "metadata": {},
   "outputs": [],
   "source": [
    "import mcubes"
   ]
  },
  {
   "cell_type": "code",
   "execution_count": 23,
   "id": "ec7fc825",
   "metadata": {},
   "outputs": [],
   "source": [
    "x, y, z = np.mgrid[:100, :100, :100]\n",
    "binary_sphere = (x - 50)**2 + (y - 50)**2 + (z - 50)**2 - 25**2 < 0\n",
    "\n",
    "# Extract the 0.5-levelset since the array is binary\n",
    "vertices, triangles = mcubes.marching_cubes(binary_sphere, 0.5)"
   ]
  },
  {
   "cell_type": "code",
   "execution_count": 24,
   "id": "0c65ba70",
   "metadata": {},
   "outputs": [],
   "source": [
    "vertices, triangles = mcubes.marching_cubes(binary_sphere, 0.5)"
   ]
  },
  {
   "cell_type": "code",
   "execution_count": 25,
   "id": "131b8470",
   "metadata": {},
   "outputs": [],
   "source": [
    "mcubes.export_obj(vertices, triangles, 'sphere.obj')"
   ]
  }
 ],
 "metadata": {
  "kernelspec": {
   "display_name": "Python 3 (ipykernel)",
   "language": "python",
   "name": "python3"
  },
  "language_info": {
   "codemirror_mode": {
    "name": "ipython",
    "version": 3
   },
   "file_extension": ".py",
   "mimetype": "text/x-python",
   "name": "python",
   "nbconvert_exporter": "python",
   "pygments_lexer": "ipython3",
   "version": "3.9.7"
  }
 },
 "nbformat": 4,
 "nbformat_minor": 5
}
